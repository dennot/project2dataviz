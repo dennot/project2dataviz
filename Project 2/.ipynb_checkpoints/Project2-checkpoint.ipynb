{
 "cells": [
  {
   "cell_type": "code",
   "execution_count": 1,
   "metadata": {},
   "outputs": [],
   "source": [
    "import pandas as pd\n",
    "import numpy as np\n",
    "import matplotlib as plt\n",
    "import seaborn as sns"
   ]
  },
  {
   "cell_type": "code",
   "execution_count": 2,
   "metadata": {},
   "outputs": [],
   "source": [
    "test = pd.read_csv('2019_NIBRS_NATIONAL_MASTER_FILE_ENC_STATIC.txt')"
   ]
  },
  {
   "cell_type": "code",
   "execution_count": 3,
   "metadata": {},
   "outputs": [
    {
     "data": {
      "text/html": [
       "<div>\n",
       "<style scoped>\n",
       "    .dataframe tbody tr th:only-of-type {\n",
       "        vertical-align: middle;\n",
       "    }\n",
       "\n",
       "    .dataframe tbody tr th {\n",
       "        vertical-align: top;\n",
       "    }\n",
       "\n",
       "    .dataframe thead th {\n",
       "        text-align: right;\n",
       "    }\n",
       "</style>\n",
       "<table border=\"1\" class=\"dataframe\">\n",
       "  <thead>\n",
       "    <tr style=\"text-align: right;\">\n",
       "      <th></th>\n",
       "      <th>BH50AK001010000000000000020200430       0Anchorage                     AK1C941Y         3030020A         000287731    38000000000000000000      000000000000000000      000000000000000000      000000000000000000      000000000  002019NNNNNNNNNNNNNNNNNNNNNNNNNNNNNNNNNNNN020</th>\n",
       "    </tr>\n",
       "  </thead>\n",
       "  <tbody>\n",
       "    <tr>\n",
       "      <th>0</th>\n",
       "      <td>BH50AK001020000000000000020200430       0Fairb...</td>\n",
       "    </tr>\n",
       "    <tr>\n",
       "      <th>1</th>\n",
       "      <td>BH50AK001030000000000000020200430       0Junea...</td>\n",
       "    </tr>\n",
       "    <tr>\n",
       "      <th>2</th>\n",
       "      <td>BH50AK001040000000000000020200430       0Ketch...</td>\n",
       "    </tr>\n",
       "    <tr>\n",
       "      <th>3</th>\n",
       "      <td>BH50AK001050000000000000020200430       0Kodia...</td>\n",
       "    </tr>\n",
       "    <tr>\n",
       "      <th>4</th>\n",
       "      <td>BH50AK001060000000000000020200430       0Nome ...</td>\n",
       "    </tr>\n",
       "  </tbody>\n",
       "</table>\n",
       "</div>"
      ],
      "text/plain": [
       "  BH50AK001010000000000000020200430       0Anchorage                     AK1C941Y         3030020A         000287731    38000000000000000000      000000000000000000      000000000000000000      000000000000000000      000000000  002019NNNNNNNNNNNNNNNNNNNNNNNNNNNNNNNNNNNN020                    \n",
       "0  BH50AK001020000000000000020200430       0Fairb...                                                                                                                                                                                                                                                  \n",
       "1  BH50AK001030000000000000020200430       0Junea...                                                                                                                                                                                                                                                  \n",
       "2  BH50AK001040000000000000020200430       0Ketch...                                                                                                                                                                                                                                                  \n",
       "3  BH50AK001050000000000000020200430       0Kodia...                                                                                                                                                                                                                                                  \n",
       "4  BH50AK001060000000000000020200430       0Nome ...                                                                                                                                                                                                                                                  "
      ]
     },
     "execution_count": 3,
     "metadata": {},
     "output_type": "execute_result"
    }
   ],
   "source": [
    "test.head()"
   ]
  },
  {
   "cell_type": "code",
   "execution_count": 4,
   "metadata": {},
   "outputs": [
    {
     "name": "stderr",
     "output_type": "stream",
     "text": [
      "E:\\Programs\\Anaconda\\lib\\site-packages\\IPython\\core\\interactiveshell.py:3146: DtypeWarning: Columns (19) have mixed types.Specify dtype option on import or set low_memory=False.\n",
      "  has_raised = await self.run_ast_nodes(code_ast.body, cell_name,\n"
     ]
    }
   ],
   "source": [
    "low_memory=False\n",
    "df = pd.read_csv('hate_crime.csv')"
   ]
  },
  {
   "cell_type": "code",
   "execution_count": 5,
   "metadata": {},
   "outputs": [
    {
     "data": {
      "text/html": [
       "<div>\n",
       "<style scoped>\n",
       "    .dataframe tbody tr th:only-of-type {\n",
       "        vertical-align: middle;\n",
       "    }\n",
       "\n",
       "    .dataframe tbody tr th {\n",
       "        vertical-align: top;\n",
       "    }\n",
       "\n",
       "    .dataframe thead th {\n",
       "        text-align: right;\n",
       "    }\n",
       "</style>\n",
       "<table border=\"1\" class=\"dataframe\">\n",
       "  <thead>\n",
       "    <tr style=\"text-align: right;\">\n",
       "      <th></th>\n",
       "      <th>INCIDENT_ID</th>\n",
       "      <th>DATA_YEAR</th>\n",
       "      <th>ORI</th>\n",
       "      <th>PUB_AGENCY_NAME</th>\n",
       "      <th>PUB_AGENCY_UNIT</th>\n",
       "      <th>AGENCY_TYPE_NAME</th>\n",
       "      <th>STATE_ABBR</th>\n",
       "      <th>STATE_NAME</th>\n",
       "      <th>DIVISION_NAME</th>\n",
       "      <th>REGION_NAME</th>\n",
       "      <th>...</th>\n",
       "      <th>OFFENDER_RACE</th>\n",
       "      <th>OFFENDER_ETHNICITY</th>\n",
       "      <th>VICTIM_COUNT</th>\n",
       "      <th>OFFENSE_NAME</th>\n",
       "      <th>TOTAL_INDIVIDUAL_VICTIMS</th>\n",
       "      <th>LOCATION_NAME</th>\n",
       "      <th>BIAS_DESC</th>\n",
       "      <th>VICTIM_TYPES</th>\n",
       "      <th>MULTIPLE_OFFENSE</th>\n",
       "      <th>MULTIPLE_BIAS</th>\n",
       "    </tr>\n",
       "  </thead>\n",
       "  <tbody>\n",
       "    <tr>\n",
       "      <th>0</th>\n",
       "      <td>3015</td>\n",
       "      <td>1991</td>\n",
       "      <td>AR0040200</td>\n",
       "      <td>Rogers</td>\n",
       "      <td>NaN</td>\n",
       "      <td>City</td>\n",
       "      <td>AR</td>\n",
       "      <td>Arkansas</td>\n",
       "      <td>West South Central</td>\n",
       "      <td>South</td>\n",
       "      <td>...</td>\n",
       "      <td>White</td>\n",
       "      <td>NaN</td>\n",
       "      <td>1</td>\n",
       "      <td>Intimidation</td>\n",
       "      <td>1.0</td>\n",
       "      <td>Highway/Road/Alley/Street/Sidewalk</td>\n",
       "      <td>Anti-Black or African American</td>\n",
       "      <td>Individual</td>\n",
       "      <td>S</td>\n",
       "      <td>S</td>\n",
       "    </tr>\n",
       "    <tr>\n",
       "      <th>1</th>\n",
       "      <td>3016</td>\n",
       "      <td>1991</td>\n",
       "      <td>AR0290100</td>\n",
       "      <td>Hope</td>\n",
       "      <td>NaN</td>\n",
       "      <td>City</td>\n",
       "      <td>AR</td>\n",
       "      <td>Arkansas</td>\n",
       "      <td>West South Central</td>\n",
       "      <td>South</td>\n",
       "      <td>...</td>\n",
       "      <td>Black or African American</td>\n",
       "      <td>NaN</td>\n",
       "      <td>1</td>\n",
       "      <td>Simple Assault</td>\n",
       "      <td>1.0</td>\n",
       "      <td>Highway/Road/Alley/Street/Sidewalk</td>\n",
       "      <td>Anti-White</td>\n",
       "      <td>Individual</td>\n",
       "      <td>S</td>\n",
       "      <td>S</td>\n",
       "    </tr>\n",
       "    <tr>\n",
       "      <th>2</th>\n",
       "      <td>43</td>\n",
       "      <td>1991</td>\n",
       "      <td>AR0350100</td>\n",
       "      <td>Pine Bluff</td>\n",
       "      <td>NaN</td>\n",
       "      <td>City</td>\n",
       "      <td>AR</td>\n",
       "      <td>Arkansas</td>\n",
       "      <td>West South Central</td>\n",
       "      <td>South</td>\n",
       "      <td>...</td>\n",
       "      <td>Black or African American</td>\n",
       "      <td>NaN</td>\n",
       "      <td>1</td>\n",
       "      <td>Aggravated Assault</td>\n",
       "      <td>1.0</td>\n",
       "      <td>Residence/Home</td>\n",
       "      <td>Anti-Black or African American</td>\n",
       "      <td>Individual</td>\n",
       "      <td>S</td>\n",
       "      <td>S</td>\n",
       "    </tr>\n",
       "    <tr>\n",
       "      <th>3</th>\n",
       "      <td>44</td>\n",
       "      <td>1991</td>\n",
       "      <td>AR0350100</td>\n",
       "      <td>Pine Bluff</td>\n",
       "      <td>NaN</td>\n",
       "      <td>City</td>\n",
       "      <td>AR</td>\n",
       "      <td>Arkansas</td>\n",
       "      <td>West South Central</td>\n",
       "      <td>South</td>\n",
       "      <td>...</td>\n",
       "      <td>Black or African American</td>\n",
       "      <td>NaN</td>\n",
       "      <td>2</td>\n",
       "      <td>Aggravated Assault;Destruction/Damage/Vandalis...</td>\n",
       "      <td>1.0</td>\n",
       "      <td>Highway/Road/Alley/Street/Sidewalk</td>\n",
       "      <td>Anti-White</td>\n",
       "      <td>Individual</td>\n",
       "      <td>M</td>\n",
       "      <td>S</td>\n",
       "    </tr>\n",
       "    <tr>\n",
       "      <th>4</th>\n",
       "      <td>3017</td>\n",
       "      <td>1991</td>\n",
       "      <td>AR0350100</td>\n",
       "      <td>Pine Bluff</td>\n",
       "      <td>NaN</td>\n",
       "      <td>City</td>\n",
       "      <td>AR</td>\n",
       "      <td>Arkansas</td>\n",
       "      <td>West South Central</td>\n",
       "      <td>South</td>\n",
       "      <td>...</td>\n",
       "      <td>Black or African American</td>\n",
       "      <td>NaN</td>\n",
       "      <td>1</td>\n",
       "      <td>Aggravated Assault</td>\n",
       "      <td>1.0</td>\n",
       "      <td>Service/Gas Station</td>\n",
       "      <td>Anti-White</td>\n",
       "      <td>Individual</td>\n",
       "      <td>S</td>\n",
       "      <td>S</td>\n",
       "    </tr>\n",
       "  </tbody>\n",
       "</table>\n",
       "<p>5 rows × 28 columns</p>\n",
       "</div>"
      ],
      "text/plain": [
       "   INCIDENT_ID  DATA_YEAR        ORI PUB_AGENCY_NAME PUB_AGENCY_UNIT  \\\n",
       "0         3015       1991  AR0040200          Rogers             NaN   \n",
       "1         3016       1991  AR0290100            Hope             NaN   \n",
       "2           43       1991  AR0350100      Pine Bluff             NaN   \n",
       "3           44       1991  AR0350100      Pine Bluff             NaN   \n",
       "4         3017       1991  AR0350100      Pine Bluff             NaN   \n",
       "\n",
       "  AGENCY_TYPE_NAME STATE_ABBR STATE_NAME       DIVISION_NAME REGION_NAME  ...  \\\n",
       "0             City         AR   Arkansas  West South Central       South  ...   \n",
       "1             City         AR   Arkansas  West South Central       South  ...   \n",
       "2             City         AR   Arkansas  West South Central       South  ...   \n",
       "3             City         AR   Arkansas  West South Central       South  ...   \n",
       "4             City         AR   Arkansas  West South Central       South  ...   \n",
       "\n",
       "               OFFENDER_RACE OFFENDER_ETHNICITY VICTIM_COUNT  \\\n",
       "0                      White                NaN            1   \n",
       "1  Black or African American                NaN            1   \n",
       "2  Black or African American                NaN            1   \n",
       "3  Black or African American                NaN            2   \n",
       "4  Black or African American                NaN            1   \n",
       "\n",
       "                                        OFFENSE_NAME  \\\n",
       "0                                       Intimidation   \n",
       "1                                     Simple Assault   \n",
       "2                                 Aggravated Assault   \n",
       "3  Aggravated Assault;Destruction/Damage/Vandalis...   \n",
       "4                                 Aggravated Assault   \n",
       "\n",
       "   TOTAL_INDIVIDUAL_VICTIMS                       LOCATION_NAME  \\\n",
       "0                       1.0  Highway/Road/Alley/Street/Sidewalk   \n",
       "1                       1.0  Highway/Road/Alley/Street/Sidewalk   \n",
       "2                       1.0                      Residence/Home   \n",
       "3                       1.0  Highway/Road/Alley/Street/Sidewalk   \n",
       "4                       1.0                 Service/Gas Station   \n",
       "\n",
       "                        BIAS_DESC  VICTIM_TYPES MULTIPLE_OFFENSE MULTIPLE_BIAS  \n",
       "0  Anti-Black or African American    Individual                S             S  \n",
       "1                      Anti-White    Individual                S             S  \n",
       "2  Anti-Black or African American    Individual                S             S  \n",
       "3                      Anti-White    Individual                M             S  \n",
       "4                      Anti-White    Individual                S             S  \n",
       "\n",
       "[5 rows x 28 columns]"
      ]
     },
     "execution_count": 5,
     "metadata": {},
     "output_type": "execute_result"
    }
   ],
   "source": [
    "df.head()"
   ]
  },
  {
   "cell_type": "code",
   "execution_count": 6,
   "metadata": {},
   "outputs": [
    {
     "data": {
      "text/plain": [
       "'\\nRACE_ID\\tRACE_CODE\\tRACE_DESC\\tSORT_ORDER\\tSTART_YEAR\\tEND_YEAR\\tNOTES\\n0\\tU\\tUnknown\\t98\\t\\t\\tRace is explicitly unknown\\n1\\tW\\tWhite\\t10\\t\\t\\t\\n2\\tB\\tBlack or African American\\t20\\t\\t\\t\\n3\\tI\\tAmerican Indian or Alaska Native\\t30\\t\\t\\t\\n4\\tA\\tAsian\\t40\\t2013\\t\\tIncludes Asian Indian\\n5\\tAP\\tAsian, Native Hawaiian, or Other Pacific Islander\\t41\\t1980\\t2012\\tIncludes Asian Indian\\n6\\tC\\tChinese\\t42\\t1960\\t1979\\t\\n7\\tJ\\tJapanese\\t43\\t1960\\t1979\\t\\n8\\tP\\tNative Hawaiian or Other Pacific Islander\\t50\\t2013\\t\\t\\n9\\tO\\tOther\\t60\\t1960\\t1979\\tIncludes Native Hawaiian or Other Pacific Islander and Asian Indian\\n98\\tM\\tMultiple\\t70\\t\\t\\tUsed for groups with multiple races\\n99\\tNS\\tNot Specified\\t99\\t\\t\\tRace is not specified\\n'"
      ]
     },
     "execution_count": 6,
     "metadata": {},
     "output_type": "execute_result"
    }
   ],
   "source": [
    "\"\"\"\n",
    "RACE_ID\tRACE_CODE\tRACE_DESC\tSORT_ORDER\tSTART_YEAR\tEND_YEAR\tNOTES\n",
    "0\tU\tUnknown\t98\t\t\tRace is explicitly unknown\n",
    "1\tW\tWhite\t10\t\t\t\n",
    "2\tB\tBlack or African American\t20\t\t\t\n",
    "3\tI\tAmerican Indian or Alaska Native\t30\t\t\t\n",
    "4\tA\tAsian\t40\t2013\t\tIncludes Asian Indian\n",
    "5\tAP\tAsian, Native Hawaiian, or Other Pacific Islander\t41\t1980\t2012\tIncludes Asian Indian\n",
    "6\tC\tChinese\t42\t1960\t1979\t\n",
    "7\tJ\tJapanese\t43\t1960\t1979\t\n",
    "8\tP\tNative Hawaiian or Other Pacific Islander\t50\t2013\t\t\n",
    "9\tO\tOther\t60\t1960\t1979\tIncludes Native Hawaiian or Other Pacific Islander and Asian Indian\n",
    "98\tM\tMultiple\t70\t\t\tUsed for groups with multiple races\n",
    "99\tNS\tNot Specified\t99\t\t\tRace is not specified\n",
    "\"\"\""
   ]
  },
  {
   "cell_type": "code",
   "execution_count": 7,
   "metadata": {},
   "outputs": [
    {
     "name": "stdout",
     "output_type": "stream",
     "text": [
      "<class 'pandas.core.frame.DataFrame'>\n",
      "RangeIndex: 201403 entries, 0 to 201402\n",
      "Data columns (total 28 columns):\n",
      " #   Column                    Non-Null Count   Dtype  \n",
      "---  ------                    --------------   -----  \n",
      " 0   INCIDENT_ID               201403 non-null  int64  \n",
      " 1   DATA_YEAR                 201403 non-null  int64  \n",
      " 2   ORI                       201403 non-null  object \n",
      " 3   PUB_AGENCY_NAME           201403 non-null  object \n",
      " 4   PUB_AGENCY_UNIT           5594 non-null    object \n",
      " 5   AGENCY_TYPE_NAME          201403 non-null  object \n",
      " 6   STATE_ABBR                201403 non-null  object \n",
      " 7   STATE_NAME                201403 non-null  object \n",
      " 8   DIVISION_NAME             201403 non-null  object \n",
      " 9   REGION_NAME               201403 non-null  object \n",
      " 10  POPULATION_GROUP_CODE     201403 non-null  object \n",
      " 11  POPULATION_GROUP_DESC     201403 non-null  object \n",
      " 12  INCIDENT_DATE             201403 non-null  object \n",
      " 13  ADULT_VICTIM_COUNT        35973 non-null   float64\n",
      " 14  JUVENILE_VICTIM_COUNT     35496 non-null   float64\n",
      " 15  TOTAL_OFFENDER_COUNT      201403 non-null  int64  \n",
      " 16  ADULT_OFFENDER_COUNT      33952 non-null   float64\n",
      " 17  JUVENILE_OFFENDER_COUNT   33945 non-null   float64\n",
      " 18  OFFENDER_RACE             201384 non-null  object \n",
      " 19  OFFENDER_ETHNICITY        18150 non-null   object \n",
      " 20  VICTIM_COUNT              201403 non-null  int64  \n",
      " 21  OFFENSE_NAME              201403 non-null  object \n",
      " 22  TOTAL_INDIVIDUAL_VICTIMS  199797 non-null  float64\n",
      " 23  LOCATION_NAME             201403 non-null  object \n",
      " 24  BIAS_DESC                 201403 non-null  object \n",
      " 25  VICTIM_TYPES              201403 non-null  object \n",
      " 26  MULTIPLE_OFFENSE          201403 non-null  object \n",
      " 27  MULTIPLE_BIAS             201403 non-null  object \n",
      "dtypes: float64(5), int64(4), object(19)\n",
      "memory usage: 43.0+ MB\n"
     ]
    }
   ],
   "source": [
    "df.info()"
   ]
  },
  {
   "cell_type": "code",
   "execution_count": 8,
   "metadata": {},
   "outputs": [
    {
     "data": {
      "text/plain": [
       "0                             White\n",
       "1         Black or African American\n",
       "2         Black or African American\n",
       "3         Black or African American\n",
       "4         Black or African American\n",
       "                    ...            \n",
       "201398                      Unknown\n",
       "201399                        White\n",
       "201400                      Unknown\n",
       "201401                        White\n",
       "201402                      Unknown\n",
       "Name: OFFENDER_RACE, Length: 201403, dtype: object"
      ]
     },
     "execution_count": 8,
     "metadata": {},
     "output_type": "execute_result"
    }
   ],
   "source": [
    "df['OFFENDER_RACE']"
   ]
  },
  {
   "cell_type": "code",
   "execution_count": 9,
   "metadata": {},
   "outputs": [],
   "source": [
    "races = df['OFFENDER_RACE'].value_counts()"
   ]
  },
  {
   "cell_type": "code",
   "execution_count": 10,
   "metadata": {},
   "outputs": [
    {
     "data": {
      "text/plain": [
       "<AxesSubplot:>"
      ]
     },
     "execution_count": 10,
     "metadata": {},
     "output_type": "execute_result"
    },
    {
     "data": {
      "image/png": "[encoded data removed]",
      "text/plain": [
       "<Figure size 640x480 with 1 Axes>"
      ]
     },
     "metadata": {},
     "output_type": "display_data"
    }
   ],
   "source": [
    "plt.style.use('classic')\n",
    "races.plot(kind='bar')"
   ]
  },
  {
   "cell_type": "code",
   "execution_count": 11,
   "metadata": {},
   "outputs": [
    {
     "data": {
      "text/plain": [
       "Unknown                                      89284\n",
       "White                                        79514\n",
       "Black or African American                    25956\n",
       "Multiple                                      4047\n",
       "Asian                                         1453\n",
       "American Indian or Alaska Native              1095\n",
       "Native Hawaiian or Other Pacific Islander       35\n",
       "Name: OFFENDER_RACE, dtype: int64"
      ]
     },
     "execution_count": 11,
     "metadata": {},
     "output_type": "execute_result"
    }
   ],
   "source": [
    "races"
   ]
  },
  {
   "cell_type": "code",
   "execution_count": 12,
   "metadata": {},
   "outputs": [],
   "source": [
    "conditions = [\n",
    "    (df['OFFENDER_RACE'] == 'Unknown'),\n",
    "    (df['OFFENDER_RACE'] == 'White'),\n",
    "    (df['OFFENDER_RACE'] == 'Black or African American'),\n",
    "    (df['OFFENDER_RACE'] == 'Multiple'),\n",
    "    (df['OFFENDER_RACE'] == 'Asian'),\n",
    "    (df['OFFENDER_RACE'] == 'American Indian or Alaska Native'),\n",
    "    (df['OFFENDER_RACE'] == 'Native Hawaiian or Other Pacific Islander')\n",
    "    ]\n",
    "\n",
    "values = ['1', '2', '3', '4', '5', '6', '7']\n",
    "\n",
    "df['RACE_NUM'] = np.select(conditions, values)"
   ]
  },
  {
   "cell_type": "code",
   "execution_count": 13,
   "metadata": {},
   "outputs": [
    {
     "data": {
      "text/html": [
       "<div>\n",
       "<style scoped>\n",
       "    .dataframe tbody tr th:only-of-type {\n",
       "        vertical-align: middle;\n",
       "    }\n",
       "\n",
       "    .dataframe tbody tr th {\n",
       "        vertical-align: top;\n",
       "    }\n",
       "\n",
       "    .dataframe thead th {\n",
       "        text-align: right;\n",
       "    }\n",
       "</style>\n",
       "<table border=\"1\" class=\"dataframe\">\n",
       "  <thead>\n",
       "    <tr style=\"text-align: right;\">\n",
       "      <th></th>\n",
       "      <th>OFFENDER_RACE</th>\n",
       "      <th>RACE_NUM</th>\n",
       "    </tr>\n",
       "  </thead>\n",
       "  <tbody>\n",
       "    <tr>\n",
       "      <th>0</th>\n",
       "      <td>White</td>\n",
       "      <td>2</td>\n",
       "    </tr>\n",
       "    <tr>\n",
       "      <th>1</th>\n",
       "      <td>Black or African American</td>\n",
       "      <td>3</td>\n",
       "    </tr>\n",
       "    <tr>\n",
       "      <th>2</th>\n",
       "      <td>Black or African American</td>\n",
       "      <td>3</td>\n",
       "    </tr>\n",
       "    <tr>\n",
       "      <th>3</th>\n",
       "      <td>Black or African American</td>\n",
       "      <td>3</td>\n",
       "    </tr>\n",
       "    <tr>\n",
       "      <th>4</th>\n",
       "      <td>Black or African American</td>\n",
       "      <td>3</td>\n",
       "    </tr>\n",
       "  </tbody>\n",
       "</table>\n",
       "</div>"
      ],
      "text/plain": [
       "               OFFENDER_RACE RACE_NUM\n",
       "0                      White        2\n",
       "1  Black or African American        3\n",
       "2  Black or African American        3\n",
       "3  Black or African American        3\n",
       "4  Black or African American        3"
      ]
     },
     "execution_count": 13,
     "metadata": {},
     "output_type": "execute_result"
    }
   ],
   "source": [
    "df[['OFFENDER_RACE', 'RACE_NUM']].head()"
   ]
  },
  {
   "cell_type": "code",
   "execution_count": 14,
   "metadata": {},
   "outputs": [
    {
     "name": "stdout",
     "output_type": "stream",
     "text": [
      "Requirement already satisfied: geocoder in e:\\programs\\anaconda\\lib\\site-packages (1.38.1)\n",
      "Requirement already satisfied: requests in e:\\programs\\anaconda\\lib\\site-packages (from geocoder) (2.24.0)\n",
      "Requirement already satisfied: future in e:\\programs\\anaconda\\lib\\site-packages (from geocoder) (0.18.2)\n",
      "Requirement already satisfied: ratelim in e:\\programs\\anaconda\\lib\\site-packages (from geocoder) (0.1.6)\n",
      "Requirement already satisfied: click in e:\\programs\\anaconda\\lib\\site-packages (from geocoder) (7.1.2)\n",
      "Requirement already satisfied: six in e:\\programs\\anaconda\\lib\\site-packages (from geocoder) (1.15.0)\n",
      "Requirement already satisfied: certifi>=2017.4.17 in e:\\programs\\anaconda\\lib\\site-packages (from requests->geocoder) (2020.6.20)\n",
      "Requirement already satisfied: chardet<4,>=3.0.2 in e:\\programs\\anaconda\\lib\\site-packages (from requests->geocoder) (3.0.4)\n",
      "Requirement already satisfied: idna<3,>=2.5 in e:\\programs\\anaconda\\lib\\site-packages (from requests->geocoder) (2.10)\n",
      "Requirement already satisfied: urllib3!=1.25.0,!=1.25.1,<1.26,>=1.21.1 in e:\\programs\\anaconda\\lib\\site-packages (from requests->geocoder) (1.25.11)\n",
      "Requirement already satisfied: decorator in e:\\programs\\anaconda\\lib\\site-packages (from ratelim->geocoder) (4.4.2)\n"
     ]
    }
   ],
   "source": [
    "!pip install geocoder"
   ]
  },
  {
   "cell_type": "code",
   "execution_count": 15,
   "metadata": {},
   "outputs": [
    {
     "name": "stdout",
     "output_type": "stream",
     "text": [
      "Requirement already satisfied: folium in e:\\programs\\anaconda\\lib\\site-packages (0.12.1)\n",
      "Requirement already satisfied: branca>=0.3.0 in e:\\programs\\anaconda\\lib\\site-packages (from folium) (0.4.2)\n",
      "Requirement already satisfied: numpy in e:\\programs\\anaconda\\lib\\site-packages (from folium) (1.19.2)\n",
      "Requirement already satisfied: jinja2>=2.9 in e:\\programs\\anaconda\\lib\\site-packages (from folium) (2.11.2)\n",
      "Requirement already satisfied: requests in e:\\programs\\anaconda\\lib\\site-packages (from folium) (2.24.0)\n",
      "Requirement already satisfied: MarkupSafe>=0.23 in e:\\programs\\anaconda\\lib\\site-packages (from jinja2>=2.9->folium) (1.1.1)\n",
      "Requirement already satisfied: urllib3!=1.25.0,!=1.25.1,<1.26,>=1.21.1 in e:\\programs\\anaconda\\lib\\site-packages (from requests->folium) (1.25.11)\n",
      "Requirement already satisfied: certifi>=2017.4.17 in e:\\programs\\anaconda\\lib\\site-packages (from requests->folium) (2020.6.20)\n",
      "Requirement already satisfied: idna<3,>=2.5 in e:\\programs\\anaconda\\lib\\site-packages (from requests->folium) (2.10)\n",
      "Requirement already satisfied: chardet<4,>=3.0.2 in e:\\programs\\anaconda\\lib\\site-packages (from requests->folium) (3.0.4)\n"
     ]
    }
   ],
   "source": [
    "!pip install folium"
   ]
  },
  {
   "cell_type": "code",
   "execution_count": 16,
   "metadata": {},
   "outputs": [],
   "source": [
    "import folium\n",
    "from folium import plugins\n",
    "import ipywidgets\n",
    "import geocoder"
   ]
  },
  {
   "cell_type": "code",
   "execution_count": null,
   "metadata": {},
   "outputs": [
    {
     "name": "stderr",
     "output_type": "stream",
     "text": [
      "Status code Unknown from https://nominatim.openstreetmap.org/search: ERROR - HTTPSConnectionPool(host='nominatim.openstreetmap.org', port=443): Read timed out. (read timeout=5.0)\n",
      "Status code Unknown from https://nominatim.openstreetmap.org/search: ERROR - HTTPSConnectionPool(host='nominatim.openstreetmap.org', port=443): Max retries exceeded with url: /search?q=Phoenix%2CArizona&format=jsonv2&addressdetails=1&limit=1 (Caused by ConnectTimeoutError(<urllib3.connection.HTTPSConnection object at 0x0000023B30ABCD00>, 'Connection to nominatim.openstreetmap.org timed out. (connect timeout=5.0)'))\n",
      "Status code Unknown from https://nominatim.openstreetmap.org/search: ERROR - HTTPSConnectionPool(host='nominatim.openstreetmap.org', port=443): Max retries exceeded with url: /search?q=Phoenix%2CArizona&format=jsonv2&addressdetails=1&limit=1 (Caused by ConnectTimeoutError(<urllib3.connection.HTTPSConnection object at 0x0000023B30AD7610>, 'Connection to nominatim.openstreetmap.org timed out. (connect timeout=5.0)'))\n",
      "Status code Unknown from https://nominatim.openstreetmap.org/search: ERROR - HTTPSConnectionPool(host='nominatim.openstreetmap.org', port=443): Max retries exceeded with url: /search?q=Phoenix%2CArizona&format=jsonv2&addressdetails=1&limit=1 (Caused by ConnectTimeoutError(<urllib3.connection.HTTPSConnection object at 0x0000023B30ABCF70>, 'Connection to nominatim.openstreetmap.org timed out. (connect timeout=5.0)'))\n",
      "Status code Unknown from https://nominatim.openstreetmap.org/search: ERROR - HTTPSConnectionPool(host='nominatim.openstreetmap.org', port=443): Max retries exceeded with url: /search?q=Phoenix%2CArizona&format=jsonv2&addressdetails=1&limit=1 (Caused by ConnectTimeoutError(<urllib3.connection.HTTPSConnection object at 0x0000023B30AA8C10>, 'Connection to nominatim.openstreetmap.org timed out. (connect timeout=5.0)'))\n",
      "Status code Unknown from https://nominatim.openstreetmap.org/search: ERROR - HTTPSConnectionPool(host='nominatim.openstreetmap.org', port=443): Max retries exceeded with url: /search?q=Phoenix%2CArizona&format=jsonv2&addressdetails=1&limit=1 (Caused by ConnectTimeoutError(<urllib3.connection.HTTPSConnection object at 0x0000023B30AD7EE0>, 'Connection to nominatim.openstreetmap.org timed out. (connect timeout=5.0)'))\n",
      "Status code Unknown from https://nominatim.openstreetmap.org/search: ERROR - HTTPSConnectionPool(host='nominatim.openstreetmap.org', port=443): Max retries exceeded with url: /search?q=Phoenix%2CArizona&format=jsonv2&addressdetails=1&limit=1 (Caused by ConnectTimeoutError(<urllib3.connection.HTTPSConnection object at 0x0000023B30ADB820>, 'Connection to nominatim.openstreetmap.org timed out. (connect timeout=5.0)'))\n",
      "Status code Unknown from https://nominatim.openstreetmap.org/search: ERROR - HTTPSConnectionPool(host='nominatim.openstreetmap.org', port=443): Max retries exceeded with url: /search?q=Phoenix%2CArizona&format=jsonv2&addressdetails=1&limit=1 (Caused by ConnectTimeoutError(<urllib3.connection.HTTPSConnection object at 0x0000023B30AE6190>, 'Connection to nominatim.openstreetmap.org timed out. (connect timeout=5.0)'))\n",
      "Status code Unknown from https://nominatim.openstreetmap.org/search: ERROR - HTTPSConnectionPool(host='nominatim.openstreetmap.org', port=443): Max retries exceeded with url: /search?q=Phoenix%2CArizona&format=jsonv2&addressdetails=1&limit=1 (Caused by ConnectTimeoutError(<urllib3.connection.HTTPSConnection object at 0x0000023B30ADB820>, 'Connection to nominatim.openstreetmap.org timed out. (connect timeout=5.0)'))\n",
      "Status code Unknown from https://nominatim.openstreetmap.org/search: ERROR - HTTPSConnectionPool(host='nominatim.openstreetmap.org', port=443): Max retries exceeded with url: /search?q=Phoenix%2CArizona&format=jsonv2&addressdetails=1&limit=1 (Caused by ConnectTimeoutError(<urllib3.connection.HTTPSConnection object at 0x0000023B30ADB280>, 'Connection to nominatim.openstreetmap.org timed out. (connect timeout=5.0)'))\n",
      "Status code Unknown from https://nominatim.openstreetmap.org/search: ERROR - HTTPSConnectionPool(host='nominatim.openstreetmap.org', port=443): Max retries exceeded with url: /search?q=Phoenix%2CArizona&format=jsonv2&addressdetails=1&limit=1 (Caused by ConnectTimeoutError(<urllib3.connection.HTTPSConnection object at 0x0000023B30AD7940>, 'Connection to nominatim.openstreetmap.org timed out. (connect timeout=5.0)'))\n",
      "Status code Unknown from https://nominatim.openstreetmap.org/search: ERROR - HTTPSConnectionPool(host='nominatim.openstreetmap.org', port=443): Max retries exceeded with url: /search?q=Phoenix%2CArizona&format=jsonv2&addressdetails=1&limit=1 (Caused by ConnectTimeoutError(<urllib3.connection.HTTPSConnection object at 0x0000023B30ABC460>, 'Connection to nominatim.openstreetmap.org timed out. (connect timeout=5.0)'))\n",
      "Status code Unknown from https://nominatim.openstreetmap.org/search: ERROR - HTTPSConnectionPool(host='nominatim.openstreetmap.org', port=443): Read timed out. (read timeout=5.0)\n",
      "Status code Unknown from https://nominatim.openstreetmap.org/search: ERROR - HTTPSConnectionPool(host='nominatim.openstreetmap.org', port=443): Max retries exceeded with url: /search?q=Santa+Clarita%2CCalifornia&format=jsonv2&addressdetails=1&limit=1 (Caused by ConnectTimeoutError(<urllib3.connection.HTTPSConnection object at 0x0000023B47654640>, 'Connection to nominatim.openstreetmap.org timed out. (connect timeout=5.0)'))\n",
      "Status code Unknown from https://nominatim.openstreetmap.org/search: ERROR - HTTPSConnectionPool(host='nominatim.openstreetmap.org', port=443): Max retries exceeded with url: /search?q=Santa+Clarita%2CCalifornia&format=jsonv2&addressdetails=1&limit=1 (Caused by ConnectTimeoutError(<urllib3.connection.HTTPSConnection object at 0x0000023B4766A850>, 'Connection to nominatim.openstreetmap.org timed out. (connect timeout=5.0)'))\n",
      "Status code Unknown from https://nominatim.openstreetmap.org/search: ERROR - HTTPSConnectionPool(host='nominatim.openstreetmap.org', port=443): Max retries exceeded with url: /search?q=Santa+Clarita%2CCalifornia&format=jsonv2&addressdetails=1&limit=1 (Caused by ConnectTimeoutError(<urllib3.connection.HTTPSConnection object at 0x0000023B47670190>, 'Connection to nominatim.openstreetmap.org timed out. (connect timeout=5.0)'))\n",
      "Status code Unknown from https://nominatim.openstreetmap.org/search: ERROR - HTTPSConnectionPool(host='nominatim.openstreetmap.org', port=443): Max retries exceeded with url: /search?q=Downey%2CCalifornia&format=jsonv2&addressdetails=1&limit=1 (Caused by ConnectTimeoutError(<urllib3.connection.HTTPSConnection object at 0x0000023B47670A90>, 'Connection to nominatim.openstreetmap.org timed out. (connect timeout=5.0)'))\n",
      "Status code Unknown from https://nominatim.openstreetmap.org/search: ERROR - HTTPSConnectionPool(host='nominatim.openstreetmap.org', port=443): Max retries exceeded with url: /search?q=Downey%2CCalifornia&format=jsonv2&addressdetails=1&limit=1 (Caused by ConnectTimeoutError(<urllib3.connection.HTTPSConnection object at 0x0000023B476773D0>, 'Connection to nominatim.openstreetmap.org timed out. (connect timeout=5.0)'))\n"
     ]
    }
   ],
   "source": [
    "mapa_us = folium.Map(location=[37.6000,-95],zoom_start=5)\n",
    "for indice, fila in df.iterrows():\n",
    "    try:\n",
    "        loc = fila.loc['PUB_AGENCY_NAME'] + ',' + fila.loc['STATE_NAME']\n",
    "        direct = geocoder.osm(loc)\n",
    "        folium.Marker(\n",
    "        location = [direct.lat,direct.lng],\n",
    "        ).add_to(mapa_us)\n",
    "    except ValueError:\n",
    "        pass\n",
    "\n",
    "mapa_us"
   ]
  },
  {
   "cell_type": "code",
   "execution_count": 18,
   "metadata": {},
   "outputs": [
    {
     "data": {
      "text/plain": [
       "False"
      ]
     },
     "execution_count": 18,
     "metadata": {},
     "output_type": "execute_result"
    }
   ],
   "source": [
    "df['PUB_AGENCY_NAME'].isnull().values.any()"
   ]
  },
  {
   "cell_type": "code",
   "execution_count": 19,
   "metadata": {},
   "outputs": [
    {
     "data": {
      "text/plain": [
       "False"
      ]
     },
     "execution_count": 19,
     "metadata": {},
     "output_type": "execute_result"
    }
   ],
   "source": [
    "df['STATE_NAME'].isnull().values.any()"
   ]
  },
  {
   "cell_type": "code",
   "execution_count": 20,
   "metadata": {},
   "outputs": [
    {
     "name": "stdout",
     "output_type": "stream",
     "text": [
      "201403 201403\n"
     ]
    }
   ],
   "source": [
    "print(\n",
    "    len(df['PUB_AGENCY_NAME']),\n",
    "    len(df['STATE_NAME'])\n",
    ")"
   ]
  },
  {
   "cell_type": "code",
   "execution_count": null,
   "metadata": {},
   "outputs": [],
   "source": [
    "mapa_us"
   ]
  },
  {
   "cell_type": "code",
   "execution_count": null,
   "metadata": {},
   "outputs": [],
   "source": []
  }
 ],
 "metadata": {
  "kernelspec": {
   "display_name": "Python 3",
   "language": "python",
   "name": "python3"
  },
  "language_info": {
   "codemirror_mode": {
    "name": "ipython",
    "version": 3
   },
   "file_extension": ".py",
   "mimetype": "text/x-python",
   "name": "python",
   "nbconvert_exporter": "python",
   "pygments_lexer": "ipython3",
   "version": "3.8.5"
  }
 },
 "nbformat": 4,
 "nbformat_minor": 4
}
